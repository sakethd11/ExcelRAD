{
  "nbformat": 4,
  "nbformat_minor": 0,
  "metadata": {
    "colab": {
      "provenance": [],
      "authorship_tag": "ABX9TyNeYKgEs/aqp3mrUqWBw3P0",
      "include_colab_link": true
    },
    "kernelspec": {
      "name": "python3",
      "display_name": "Python 3"
    },
    "language_info": {
      "name": "python"
    }
  },
  "cells": [
    {
      "cell_type": "markdown",
      "metadata": {
        "id": "view-in-github",
        "colab_type": "text"
      },
      "source": [
        "<a href=\"https://colab.research.google.com/github/sakethd11/ExcelRAD/blob/main/11_3_25.ipynb\" target=\"_parent\"><img src=\"https://colab.research.google.com/assets/colab-badge.svg\" alt=\"Open In Colab\"/></a>"
      ]
    },
    {
      "cell_type": "code",
      "execution_count": 2,
      "metadata": {
        "id": "Jn_7n-NjAi4q"
      },
      "outputs": [],
      "source": [
        "import google.generativeai as genai\n",
        "from google.colab import userdata\n",
        "\n",
        "GOOGLE_API_KEY=userdata.get('GOOGLE_API_KEY')\n",
        "genai.configure(api_key=GOOGLE_API_KEY)"
      ]
    },
    {
      "cell_type": "code",
      "source": [
        "import pathlib\n",
        "import textwrap\n",
        "\n",
        "from IPython.display import display, Markdown\n",
        "def to_markdown(text):\n",
        "  text = text.replace('•', '  *')\n",
        "  return Markdown(textwrap.indent(text, '> ', predicate=lambda _: True))"
      ],
      "metadata": {
        "id": "xXn6oPszAmhb"
      },
      "execution_count": 3,
      "outputs": []
    },
    {
      "cell_type": "code",
      "source": [
        "import PIL.Image\n",
        "img = PIL.Image.open('fd.33.12.jpeg')\n",
        "\n",
        "img\n",
        "model = genai.GenerativeModel('gemini-1.5-flash')\n",
        "response = model.generate_content([\"Write a short, engaging blog post based on this picture. \\nIt should include a description of the meal in the photo and talk about my journey meal prepping.\", img])\n",
        "response.resolve()"
      ],
      "metadata": {
        "id": "E_f5wOOgAoSy"
      },
      "execution_count": 8,
      "outputs": []
    },
    {
      "cell_type": "code",
      "source": [
        "to_markdown(response.text)"
      ],
      "metadata": {
        "colab": {
          "base_uri": "https://localhost:8080/",
          "height": 307
        },
        "id": "NsZHpHplArTj",
        "outputId": "76948402-535a-4bef-e214-6aaa1fae7d84"
      },
      "execution_count": 9,
      "outputs": [
        {
          "output_type": "execute_result",
          "data": {
            "text/plain": [
              "<IPython.core.display.Markdown object>"
            ],
            "text/markdown": "> ## My Meal Prep Journey: From Chaos to Colourful Containers!\n> \n> For ages, my lunch routine was a whirlwind of last-minute decisions, resulting in questionable takeout choices or sad desk lunches.  My evenings were equally stressful, battling hunger pangs and the siren song of unhealthy convenience food.  Enough was enough! I decided to embark on a meal prep adventure.\n> \n> The result?  These gorgeous containers filled with deliciousness!  This week's masterpiece features tender teriyaki chicken, vibrant roasted carrots and red peppers, a healthy dose of broccoli, and fluffy white rice.  It's a balanced, flavourful meal that's both satisfying and healthy – and it’s ready in minutes!\n> \n> My meal prep journey hasn't been without its bumps.  There were initial miscalculations (too much rice!), disastrous attempts at perfectly-timed cooking (burnt broccoli, anyone?), and the inevitable question: \"How long does this actually *stay* fresh?\"  But through trial and error, I've perfected my system. Now, Sundays are dedicated to creating these colorful containers,  saving me time, money, and my sanity throughout the week.\n> \n> The best part?  Knowing I have a healthy, delicious lunch waiting for me, even on the busiest of days, eliminates the midday food-related stress and allows me to focus on work and other aspects of my life.  So, if you’re thinking about starting your own meal prep journey, I highly recommend it!  Even small changes can make a big difference. And hey, perfectly roasted broccoli is definitely achievable!\n"
          },
          "metadata": {},
          "execution_count": 9
        }
      ]
    },
    {
      "cell_type": "code",
      "source": [
        "reponse=model.generate_content([\"Generate an accurate caption for this image.\",img])\n",
        "print(response.text)"
      ],
      "metadata": {
        "colab": {
          "base_uri": "https://localhost:8080/",
          "height": 211
        },
        "id": "lTltFH4fBSYX",
        "outputId": "4e9ed16b-8165-41f1-d27b-bdabbd806fc4"
      },
      "execution_count": 10,
      "outputs": [
        {
          "output_type": "stream",
          "name": "stdout",
          "text": [
            "## My Meal Prep Journey: From Chaos to Colourful Containers!\n",
            "\n",
            "For ages, my lunch routine was a whirlwind of last-minute decisions, resulting in questionable takeout choices or sad desk lunches.  My evenings were equally stressful, battling hunger pangs and the siren song of unhealthy convenience food.  Enough was enough! I decided to embark on a meal prep adventure.\n",
            "\n",
            "The result?  These gorgeous containers filled with deliciousness!  This week's masterpiece features tender teriyaki chicken, vibrant roasted carrots and red peppers, a healthy dose of broccoli, and fluffy white rice.  It's a balanced, flavourful meal that's both satisfying and healthy – and it’s ready in minutes!\n",
            "\n",
            "My meal prep journey hasn't been without its bumps.  There were initial miscalculations (too much rice!), disastrous attempts at perfectly-timed cooking (burnt broccoli, anyone?), and the inevitable question: \"How long does this actually *stay* fresh?\"  But through trial and error, I've perfected my system. Now, Sundays are dedicated to creating these colorful containers,  saving me time, money, and my sanity throughout the week.\n",
            "\n",
            "The best part?  Knowing I have a healthy, delicious lunch waiting for me, even on the busiest of days, eliminates the midday food-related stress and allows me to focus on work and other aspects of my life.  So, if you’re thinking about starting your own meal prep journey, I highly recommend it!  Even small changes can make a big difference. And hey, perfectly roasted broccoli is definitely achievable!\n",
            "\n"
          ]
        }
      ]
    },
    {
      "cell_type": "code",
      "source": [
        "from PIL import Image\n",
        "image_path = \"girl.jpeg\"\n",
        "image = Image.open(image_path)\n",
        "response = model.generate_content([\"Generate an accurate caption for the image.\",image])\n",
        "print(response.text)"
      ],
      "metadata": {
        "colab": {
          "base_uri": "https://localhost:8080/",
          "height": 312
        },
        "id": "AiWN0Hn2DMXY",
        "outputId": "1682a564-45a3-4ee7-d14c-e0f2ff081b9b"
      },
      "execution_count": 12,
      "outputs": [
        {
          "output_type": "stream",
          "name": "stdout",
          "text": [
            "Here's a caption for the image:\n",
            "\n",
            "**Option 1 (Concise):**\n",
            "\n",
            "> A woman points to the side, smiling confidently.\n",
            "\n",
            "**Option 2 (More descriptive):**\n",
            "\n",
            ">  Smiling woman in a teal printed kurta, gesturing with her hand.\n",
            "\n",
            "**Option 3 (Engaging):**\n",
            "\n",
            ">  Check out this great deal!  This is the look you've been looking for.\n",
            "\n",
            "\n",
            "The best option will depend on the context where the image is being used.\n",
            "\n"
          ]
        }
      ]
    },
    {
      "cell_type": "code",
      "source": [
        "response = model.generate_content([\"What emotions can you detect in this picture?\",img])\n",
        "print(response.text)"
      ],
      "metadata": {
        "colab": {
          "base_uri": "https://localhost:8080/",
          "height": 211
        },
        "id": "l23t6AiNGHFQ",
        "outputId": "bf6765e0-beaf-405e-ce6e-595868e16e6f"
      },
      "execution_count": 13,
      "outputs": [
        {
          "output_type": "stream",
          "name": "stdout",
          "text": [
            "The image evokes feelings of:\n",
            "\n",
            "* **Hunger/Appetite:** The food looks delicious and appetizing.  The vibrant colors and the presentation in neat containers are visually stimulating and likely to make someone feel hungry.\n",
            "* **Healthiness/Well-being:** The meal appears to be healthy and balanced, with plenty of vegetables and protein. This can create a feeling of well-being and positive association with healthy eating habits.\n",
            "* **Preparation/Organization:** The neatly packed containers suggest preparedness and organization, which might evoke feelings of calmness or satisfaction for someone who values planning and efficiency.\n",
            "* **Contentment/Satisfaction:** The overall image is pleasant and visually appealing.  This contributes to a sense of contentment and satisfaction.\n",
            "\n",
            "\n",
            "There are no negative emotions directly expressed in the picture itself.\n",
            "\n"
          ]
        }
      ]
    },
    {
      "cell_type": "code",
      "source": [],
      "metadata": {
        "id": "an5gsISoGLJE"
      },
      "execution_count": null,
      "outputs": []
    }
  ]
}