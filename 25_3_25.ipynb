{
  "nbformat": 4,
  "nbformat_minor": 0,
  "metadata": {
    "colab": {
      "provenance": [],
      "authorship_tag": "ABX9TyO/ZLY8gLumFgD2vhNOWWeF",
      "include_colab_link": true
    },
    "kernelspec": {
      "name": "python3",
      "display_name": "Python 3"
    },
    "language_info": {
      "name": "python"
    }
  },
  "cells": [
    {
      "cell_type": "markdown",
      "metadata": {
        "id": "view-in-github",
        "colab_type": "text"
      },
      "source": [
        "<a href=\"https://colab.research.google.com/github/sakethd11/ExcelRAD/blob/main/25_3_25.ipynb\" target=\"_parent\"><img src=\"https://colab.research.google.com/assets/colab-badge.svg\" alt=\"Open In Colab\"/></a>"
      ]
    },
    {
      "cell_type": "code",
      "source": [
        "!pip install sagemaker"
      ],
      "metadata": {
        "colab": {
          "base_uri": "https://localhost:8080/"
        },
        "id": "PTTwUgLGCNho",
        "outputId": "1dddb098-2e65-43b9-820b-72563b2cd7aa"
      },
      "execution_count": 1,
      "outputs": [
        {
          "output_type": "stream",
          "name": "stdout",
          "text": [
            "Requirement already satisfied: sagemaker in /usr/local/lib/python3.11/dist-packages (2.242.0)\n",
            "Requirement already satisfied: attrs<24,>=23.1.0 in /usr/local/lib/python3.11/dist-packages (from sagemaker) (23.2.0)\n",
            "Requirement already satisfied: boto3<2.0,>=1.35.75 in /usr/local/lib/python3.11/dist-packages (from sagemaker) (1.37.19)\n",
            "Requirement already satisfied: cloudpickle>=2.2.1 in /usr/local/lib/python3.11/dist-packages (from sagemaker) (3.1.1)\n",
            "Requirement already satisfied: docker in /usr/local/lib/python3.11/dist-packages (from sagemaker) (7.1.0)\n",
            "Requirement already satisfied: fastapi in /usr/local/lib/python3.11/dist-packages (from sagemaker) (0.115.12)\n",
            "Requirement already satisfied: google-pasta in /usr/local/lib/python3.11/dist-packages (from sagemaker) (0.2.0)\n",
            "Requirement already satisfied: importlib-metadata<7.0,>=1.4.0 in /usr/local/lib/python3.11/dist-packages (from sagemaker) (6.11.0)\n",
            "Requirement already satisfied: jsonschema in /usr/local/lib/python3.11/dist-packages (from sagemaker) (4.23.0)\n",
            "Requirement already satisfied: numpy<2.0,>=1.9.0 in /usr/local/lib/python3.11/dist-packages (from sagemaker) (1.26.4)\n",
            "Requirement already satisfied: omegaconf<=2.3,>=2.2 in /usr/local/lib/python3.11/dist-packages (from sagemaker) (2.3.0)\n",
            "Requirement already satisfied: packaging>=20.0 in /usr/local/lib/python3.11/dist-packages (from sagemaker) (24.2)\n",
            "Requirement already satisfied: pandas in /usr/local/lib/python3.11/dist-packages (from sagemaker) (2.2.2)\n",
            "Requirement already satisfied: pathos in /usr/local/lib/python3.11/dist-packages (from sagemaker) (0.3.3)\n",
            "Requirement already satisfied: platformdirs in /usr/local/lib/python3.11/dist-packages (from sagemaker) (4.3.7)\n",
            "Requirement already satisfied: protobuf<6.0,>=3.12 in /usr/local/lib/python3.11/dist-packages (from sagemaker) (5.29.4)\n",
            "Requirement already satisfied: psutil in /usr/local/lib/python3.11/dist-packages (from sagemaker) (5.9.5)\n",
            "Requirement already satisfied: pyyaml~=6.0 in /usr/local/lib/python3.11/dist-packages (from sagemaker) (6.0.2)\n",
            "Requirement already satisfied: requests in /usr/local/lib/python3.11/dist-packages (from sagemaker) (2.32.3)\n",
            "Requirement already satisfied: sagemaker-core<2.0.0,>=1.0.17 in /usr/local/lib/python3.11/dist-packages (from sagemaker) (1.0.25)\n",
            "Requirement already satisfied: schema in /usr/local/lib/python3.11/dist-packages (from sagemaker) (0.7.7)\n",
            "Requirement already satisfied: smdebug-rulesconfig==1.0.1 in /usr/local/lib/python3.11/dist-packages (from sagemaker) (1.0.1)\n",
            "Requirement already satisfied: tblib<4,>=1.7.0 in /usr/local/lib/python3.11/dist-packages (from sagemaker) (3.0.0)\n",
            "Requirement already satisfied: tqdm in /usr/local/lib/python3.11/dist-packages (from sagemaker) (4.67.1)\n",
            "Requirement already satisfied: urllib3<3.0.0,>=1.26.8 in /usr/local/lib/python3.11/dist-packages (from sagemaker) (2.3.0)\n",
            "Requirement already satisfied: uvicorn in /usr/local/lib/python3.11/dist-packages (from sagemaker) (0.34.0)\n",
            "Requirement already satisfied: botocore<1.38.0,>=1.37.19 in /usr/local/lib/python3.11/dist-packages (from boto3<2.0,>=1.35.75->sagemaker) (1.37.19)\n",
            "Requirement already satisfied: jmespath<2.0.0,>=0.7.1 in /usr/local/lib/python3.11/dist-packages (from boto3<2.0,>=1.35.75->sagemaker) (1.0.1)\n",
            "Requirement already satisfied: s3transfer<0.12.0,>=0.11.0 in /usr/local/lib/python3.11/dist-packages (from boto3<2.0,>=1.35.75->sagemaker) (0.11.4)\n",
            "Requirement already satisfied: zipp>=0.5 in /usr/local/lib/python3.11/dist-packages (from importlib-metadata<7.0,>=1.4.0->sagemaker) (3.21.0)\n",
            "Requirement already satisfied: antlr4-python3-runtime==4.9.* in /usr/local/lib/python3.11/dist-packages (from omegaconf<=2.3,>=2.2->sagemaker) (4.9.3)\n",
            "Requirement already satisfied: pydantic<3.0.0,>=2.0.0 in /usr/local/lib/python3.11/dist-packages (from sagemaker-core<2.0.0,>=1.0.17->sagemaker) (2.10.6)\n",
            "Requirement already satisfied: rich<14.0.0,>=13.0.0 in /usr/local/lib/python3.11/dist-packages (from sagemaker-core<2.0.0,>=1.0.17->sagemaker) (13.9.4)\n",
            "Requirement already satisfied: mock<5.0,>4.0 in /usr/local/lib/python3.11/dist-packages (from sagemaker-core<2.0.0,>=1.0.17->sagemaker) (4.0.3)\n",
            "Requirement already satisfied: jsonschema-specifications>=2023.03.6 in /usr/local/lib/python3.11/dist-packages (from jsonschema->sagemaker) (2024.10.1)\n",
            "Requirement already satisfied: referencing>=0.28.4 in /usr/local/lib/python3.11/dist-packages (from jsonschema->sagemaker) (0.36.2)\n",
            "Requirement already satisfied: rpds-py>=0.7.1 in /usr/local/lib/python3.11/dist-packages (from jsonschema->sagemaker) (0.23.1)\n",
            "Requirement already satisfied: charset-normalizer<4,>=2 in /usr/local/lib/python3.11/dist-packages (from requests->sagemaker) (3.4.1)\n",
            "Requirement already satisfied: idna<4,>=2.5 in /usr/local/lib/python3.11/dist-packages (from requests->sagemaker) (3.10)\n",
            "Requirement already satisfied: certifi>=2017.4.17 in /usr/local/lib/python3.11/dist-packages (from requests->sagemaker) (2025.1.31)\n",
            "Requirement already satisfied: starlette<0.47.0,>=0.40.0 in /usr/local/lib/python3.11/dist-packages (from fastapi->sagemaker) (0.46.1)\n",
            "Requirement already satisfied: typing-extensions>=4.8.0 in /usr/local/lib/python3.11/dist-packages (from fastapi->sagemaker) (4.12.2)\n",
            "Requirement already satisfied: six in /usr/local/lib/python3.11/dist-packages (from google-pasta->sagemaker) (1.17.0)\n",
            "Requirement already satisfied: python-dateutil>=2.8.2 in /usr/local/lib/python3.11/dist-packages (from pandas->sagemaker) (2.8.2)\n",
            "Requirement already satisfied: pytz>=2020.1 in /usr/local/lib/python3.11/dist-packages (from pandas->sagemaker) (2025.1)\n",
            "Requirement already satisfied: tzdata>=2022.7 in /usr/local/lib/python3.11/dist-packages (from pandas->sagemaker) (2025.1)\n",
            "Requirement already satisfied: ppft>=1.7.6.9 in /usr/local/lib/python3.11/dist-packages (from pathos->sagemaker) (1.7.6.9)\n",
            "Requirement already satisfied: dill>=0.3.9 in /usr/local/lib/python3.11/dist-packages (from pathos->sagemaker) (0.3.9)\n",
            "Requirement already satisfied: pox>=0.3.5 in /usr/local/lib/python3.11/dist-packages (from pathos->sagemaker) (0.3.5)\n",
            "Requirement already satisfied: multiprocess>=0.70.17 in /usr/local/lib/python3.11/dist-packages (from pathos->sagemaker) (0.70.17)\n",
            "Requirement already satisfied: click>=7.0 in /usr/local/lib/python3.11/dist-packages (from uvicorn->sagemaker) (8.1.8)\n",
            "Requirement already satisfied: h11>=0.8 in /usr/local/lib/python3.11/dist-packages (from uvicorn->sagemaker) (0.14.0)\n",
            "Requirement already satisfied: annotated-types>=0.6.0 in /usr/local/lib/python3.11/dist-packages (from pydantic<3.0.0,>=2.0.0->sagemaker-core<2.0.0,>=1.0.17->sagemaker) (0.7.0)\n",
            "Requirement already satisfied: pydantic-core==2.27.2 in /usr/local/lib/python3.11/dist-packages (from pydantic<3.0.0,>=2.0.0->sagemaker-core<2.0.0,>=1.0.17->sagemaker) (2.27.2)\n",
            "Requirement already satisfied: markdown-it-py>=2.2.0 in /usr/local/lib/python3.11/dist-packages (from rich<14.0.0,>=13.0.0->sagemaker-core<2.0.0,>=1.0.17->sagemaker) (3.0.0)\n",
            "Requirement already satisfied: pygments<3.0.0,>=2.13.0 in /usr/local/lib/python3.11/dist-packages (from rich<14.0.0,>=13.0.0->sagemaker-core<2.0.0,>=1.0.17->sagemaker) (2.18.0)\n",
            "Requirement already satisfied: anyio<5,>=3.6.2 in /usr/local/lib/python3.11/dist-packages (from starlette<0.47.0,>=0.40.0->fastapi->sagemaker) (4.9.0)\n",
            "Requirement already satisfied: sniffio>=1.1 in /usr/local/lib/python3.11/dist-packages (from anyio<5,>=3.6.2->starlette<0.47.0,>=0.40.0->fastapi->sagemaker) (1.3.1)\n",
            "Requirement already satisfied: mdurl~=0.1 in /usr/local/lib/python3.11/dist-packages (from markdown-it-py>=2.2.0->rich<14.0.0,>=13.0.0->sagemaker-core<2.0.0,>=1.0.17->sagemaker) (0.1.2)\n"
          ]
        }
      ]
    },
    {
      "cell_type": "code",
      "source": [
        "import sagemaker\n",
        "import boto3\n",
        "import pandas as pd\n",
        "\n",
        "sagemaker_session = sagemaker.Session()\n",
        "role = sagemaker.get_execution_role()\n",
        "bucket = sagemaker_session.default_bucket()\n",
        "prefix = \"nlp-model-demo\""
      ],
      "metadata": {
        "id": "ahkze47tBAoY"
      },
      "execution_count": null,
      "outputs": []
    },
    {
      "cell_type": "code",
      "source": [
        "# Load dataset\n",
        "df = pd.read_csv(\"Reviews.csv\") # Ensure the dataset is available locally\n",
        "# Keep only required columns\n",
        "df = df[[\"Text\", \"Score\"]].dropna()\n",
        "# Convert scores into binary sentiment (1 = Positive, 0 = Negative)\n",
        "df[\"Sentiment\"] = df[\"Score\"].apply(lambda x: 1 if x > 3 else 0)\n",
        "df = df [[\"Text\", \"Sentiment\"]]\n",
        "# Save processed data\n",
        "df.to_csv(\"processed_reviews.csv\", index=False)\n",
        "# Upload to S3\n",
        "s3 = boto3.client(\"s3\")\n",
        "s3.upload_file (\"processed_reviews.csv\", bucket, f\" (prefix)/processed_reviews.csv\")\n",
        "# Store S3 path\n",
        "s3_train_data = f\"s3://{bucket}/{prefix}/processed_reviews.csv\"\n",
        "print (\"Data uploaded to:\", s3_train_data)"
      ],
      "metadata": {
        "id": "ypxEbohaCDgj"
      },
      "execution_count": null,
      "outputs": []
    },
    {
      "cell_type": "code",
      "source": [],
      "metadata": {
        "id": "mliYNqIlE_qU"
      },
      "execution_count": null,
      "outputs": []
    }
  ]
}