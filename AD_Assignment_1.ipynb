{
  "nbformat": 4,
  "nbformat_minor": 0,
  "metadata": {
    "colab": {
      "provenance": [],
      "authorship_tag": "ABX9TyOQ6ufRI4B60NJ7rNa2F3HY",
      "include_colab_link": true
    },
    "kernelspec": {
      "name": "python3",
      "display_name": "Python 3"
    },
    "language_info": {
      "name": "python"
    }
  },
  "cells": [
    {
      "cell_type": "markdown",
      "metadata": {
        "id": "view-in-github",
        "colab_type": "text"
      },
      "source": [
        "<a href=\"https://colab.research.google.com/github/sakethd11/ExcelRAD/blob/main/AD_Assignment_1.ipynb\" target=\"_parent\"><img src=\"https://colab.research.google.com/assets/colab-badge.svg\" alt=\"Open In Colab\"/></a>"
      ]
    },
    {
      "cell_type": "code",
      "execution_count": null,
      "metadata": {
        "colab": {
          "base_uri": "https://localhost:8080/"
        },
        "id": "JFdywNknKTG7",
        "outputId": "d774f094-46f3-41cb-cee0-fc72ae89d57d"
      },
      "outputs": [
        {
          "output_type": "stream",
          "name": "stdout",
          "text": [
            "10 <class 'int'>\n",
            "3.14 <class 'float'>\n",
            "Hello <class 'str'>\n",
            "True <class 'bool'>\n"
          ]
        }
      ],
      "source": [
        "# Declare and print variables of different data types\n",
        "integer_var = 10\n",
        "float_var = 3.14\n",
        "string_var = \"Hello\"\n",
        "boolean_var = True\n",
        "\n",
        "print(integer_var, type(integer_var))\n",
        "print(float_var, type(float_var))\n",
        "print(string_var, type(string_var))\n",
        "print(boolean_var, type(boolean_var))"
      ]
    }
  ]
}